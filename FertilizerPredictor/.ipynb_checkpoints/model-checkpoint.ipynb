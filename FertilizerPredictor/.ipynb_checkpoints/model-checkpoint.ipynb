{
 "cells": [
  {
   "cell_type": "markdown",
   "id": "21236afa",
   "metadata": {},
   "source": [
    "# Importing Libraries"
   ]
  },
  {
   "cell_type": "code",
   "execution_count": 96,
   "id": "e4f1b926",
   "metadata": {},
   "outputs": [],
   "source": [
    "import pandas as pd\n"
   ]
  },
  {
   "cell_type": "markdown",
   "id": "a348110c",
   "metadata": {},
   "source": [
    "# Import data"
   ]
  },
  {
   "cell_type": "code",
   "execution_count": 125,
   "id": "527090fe",
   "metadata": {},
   "outputs": [],
   "source": [
    "data = pd.read_csv('soilfertility1.csv')"
   ]
  },
  {
   "cell_type": "code",
   "execution_count": 126,
   "id": "8dbbbf80",
   "metadata": {},
   "outputs": [
    {
     "data": {
      "text/html": [
       "<div>\n",
       "<style scoped>\n",
       "    .dataframe tbody tr th:only-of-type {\n",
       "        vertical-align: middle;\n",
       "    }\n",
       "\n",
       "    .dataframe tbody tr th {\n",
       "        vertical-align: top;\n",
       "    }\n",
       "\n",
       "    .dataframe thead th {\n",
       "        text-align: right;\n",
       "    }\n",
       "</style>\n",
       "<table border=\"1\" class=\"dataframe\">\n",
       "  <thead>\n",
       "    <tr style=\"text-align: right;\">\n",
       "      <th></th>\n",
       "      <th>Nitrogen</th>\n",
       "      <th>Phosphorus</th>\n",
       "      <th>Potassium</th>\n",
       "      <th>Recommendations</th>\n",
       "    </tr>\n",
       "  </thead>\n",
       "  <tbody>\n",
       "    <tr>\n",
       "      <th>0</th>\n",
       "      <td>0</td>\n",
       "      <td>0</td>\n",
       "      <td>0</td>\n",
       "      <td>Urea 265kg</td>\n",
       "    </tr>\n",
       "    <tr>\n",
       "      <th>1</th>\n",
       "      <td>1</td>\n",
       "      <td>1</td>\n",
       "      <td>1</td>\n",
       "      <td>Diammonium Phosphate 278kg</td>\n",
       "    </tr>\n",
       "    <tr>\n",
       "      <th>2</th>\n",
       "      <td>2</td>\n",
       "      <td>2</td>\n",
       "      <td>2</td>\n",
       "      <td>14-35-14 268kg</td>\n",
       "    </tr>\n",
       "    <tr>\n",
       "      <th>3</th>\n",
       "      <td>3</td>\n",
       "      <td>3</td>\n",
       "      <td>3</td>\n",
       "      <td>28-28 231kg</td>\n",
       "    </tr>\n",
       "    <tr>\n",
       "      <th>4</th>\n",
       "      <td>4</td>\n",
       "      <td>4</td>\n",
       "      <td>4</td>\n",
       "      <td>Urea 262kg</td>\n",
       "    </tr>\n",
       "    <tr>\n",
       "      <th>...</th>\n",
       "      <td>...</td>\n",
       "      <td>...</td>\n",
       "      <td>...</td>\n",
       "      <td>...</td>\n",
       "    </tr>\n",
       "    <tr>\n",
       "      <th>196</th>\n",
       "      <td>196</td>\n",
       "      <td>196</td>\n",
       "      <td>196</td>\n",
       "      <td>17-17-17 55kg</td>\n",
       "    </tr>\n",
       "    <tr>\n",
       "      <th>197</th>\n",
       "      <td>197</td>\n",
       "      <td>197</td>\n",
       "      <td>197</td>\n",
       "      <td>Urea 63kg</td>\n",
       "    </tr>\n",
       "    <tr>\n",
       "      <th>198</th>\n",
       "      <td>198</td>\n",
       "      <td>198</td>\n",
       "      <td>198</td>\n",
       "      <td>14-35-14 60kg</td>\n",
       "    </tr>\n",
       "    <tr>\n",
       "      <th>199</th>\n",
       "      <td>199</td>\n",
       "      <td>199</td>\n",
       "      <td>199</td>\n",
       "      <td>Diammonium Phosphate 50kg</td>\n",
       "    </tr>\n",
       "    <tr>\n",
       "      <th>200</th>\n",
       "      <td>200</td>\n",
       "      <td>200</td>\n",
       "      <td>200</td>\n",
       "      <td>28-28 45kg</td>\n",
       "    </tr>\n",
       "  </tbody>\n",
       "</table>\n",
       "<p>201 rows × 4 columns</p>\n",
       "</div>"
      ],
      "text/plain": [
       "     Nitrogen  Phosphorus  Potassium             Recommendations\n",
       "0           0           0          0                  Urea 265kg\n",
       "1           1           1          1  Diammonium Phosphate 278kg\n",
       "2           2           2          2              14-35-14 268kg\n",
       "3           3           3          3                 28-28 231kg\n",
       "4           4           4          4                  Urea 262kg\n",
       "..        ...         ...        ...                         ...\n",
       "196       196         196        196               17-17-17 55kg\n",
       "197       197         197        197                   Urea 63kg\n",
       "198       198         198        198               14-35-14 60kg\n",
       "199       199         199        199   Diammonium Phosphate 50kg\n",
       "200       200         200        200                  28-28 45kg\n",
       "\n",
       "[201 rows x 4 columns]"
      ]
     },
     "execution_count": 126,
     "metadata": {},
     "output_type": "execute_result"
    }
   ],
   "source": [
    "data"
   ]
  },
  {
   "cell_type": "code",
   "execution_count": 127,
   "id": "bf41c311",
   "metadata": {},
   "outputs": [
    {
     "data": {
      "text/plain": [
       "<bound method NDFrame.head of      Nitrogen  Phosphorus  Potassium             Recommendations\n",
       "0           0           0          0                  Urea 265kg\n",
       "1           1           1          1  Diammonium Phosphate 278kg\n",
       "2           2           2          2              14-35-14 268kg\n",
       "3           3           3          3                 28-28 231kg\n",
       "4           4           4          4                  Urea 262kg\n",
       "..        ...         ...        ...                         ...\n",
       "196       196         196        196               17-17-17 55kg\n",
       "197       197         197        197                   Urea 63kg\n",
       "198       198         198        198               14-35-14 60kg\n",
       "199       199         199        199   Diammonium Phosphate 50kg\n",
       "200       200         200        200                  28-28 45kg\n",
       "\n",
       "[201 rows x 4 columns]>"
      ]
     },
     "execution_count": 127,
     "metadata": {},
     "output_type": "execute_result"
    }
   ],
   "source": [
    "data.head"
   ]
  },
  {
   "cell_type": "code",
   "execution_count": 128,
   "id": "58229720",
   "metadata": {},
   "outputs": [
    {
     "data": {
      "text/plain": [
       "<bound method NDFrame.tail of      Nitrogen  Phosphorus  Potassium             Recommendations\n",
       "0           0           0          0                  Urea 265kg\n",
       "1           1           1          1  Diammonium Phosphate 278kg\n",
       "2           2           2          2              14-35-14 268kg\n",
       "3           3           3          3                 28-28 231kg\n",
       "4           4           4          4                  Urea 262kg\n",
       "..        ...         ...        ...                         ...\n",
       "196       196         196        196               17-17-17 55kg\n",
       "197       197         197        197                   Urea 63kg\n",
       "198       198         198        198               14-35-14 60kg\n",
       "199       199         199        199   Diammonium Phosphate 50kg\n",
       "200       200         200        200                  28-28 45kg\n",
       "\n",
       "[201 rows x 4 columns]>"
      ]
     },
     "execution_count": 128,
     "metadata": {},
     "output_type": "execute_result"
    }
   ],
   "source": [
    "data.tail"
   ]
  },
  {
   "cell_type": "code",
   "execution_count": 129,
   "id": "6301998a",
   "metadata": {},
   "outputs": [
    {
     "data": {
      "text/plain": [
       "(201, 4)"
      ]
     },
     "execution_count": 129,
     "metadata": {},
     "output_type": "execute_result"
    }
   ],
   "source": [
    "data.shape"
   ]
  },
  {
   "cell_type": "code",
   "execution_count": 130,
   "id": "7b8b5d37",
   "metadata": {},
   "outputs": [
    {
     "data": {
      "text/html": [
       "<div>\n",
       "<style scoped>\n",
       "    .dataframe tbody tr th:only-of-type {\n",
       "        vertical-align: middle;\n",
       "    }\n",
       "\n",
       "    .dataframe tbody tr th {\n",
       "        vertical-align: top;\n",
       "    }\n",
       "\n",
       "    .dataframe thead th {\n",
       "        text-align: right;\n",
       "    }\n",
       "</style>\n",
       "<table border=\"1\" class=\"dataframe\">\n",
       "  <thead>\n",
       "    <tr style=\"text-align: right;\">\n",
       "      <th></th>\n",
       "      <th>Nitrogen</th>\n",
       "      <th>Phosphorus</th>\n",
       "      <th>Potassium</th>\n",
       "    </tr>\n",
       "  </thead>\n",
       "  <tbody>\n",
       "    <tr>\n",
       "      <th>count</th>\n",
       "      <td>201.000000</td>\n",
       "      <td>201.000000</td>\n",
       "      <td>201.000000</td>\n",
       "    </tr>\n",
       "    <tr>\n",
       "      <th>mean</th>\n",
       "      <td>100.000000</td>\n",
       "      <td>100.000000</td>\n",
       "      <td>100.000000</td>\n",
       "    </tr>\n",
       "    <tr>\n",
       "      <th>std</th>\n",
       "      <td>58.167861</td>\n",
       "      <td>58.167861</td>\n",
       "      <td>58.167861</td>\n",
       "    </tr>\n",
       "    <tr>\n",
       "      <th>min</th>\n",
       "      <td>0.000000</td>\n",
       "      <td>0.000000</td>\n",
       "      <td>0.000000</td>\n",
       "    </tr>\n",
       "    <tr>\n",
       "      <th>25%</th>\n",
       "      <td>50.000000</td>\n",
       "      <td>50.000000</td>\n",
       "      <td>50.000000</td>\n",
       "    </tr>\n",
       "    <tr>\n",
       "      <th>50%</th>\n",
       "      <td>100.000000</td>\n",
       "      <td>100.000000</td>\n",
       "      <td>100.000000</td>\n",
       "    </tr>\n",
       "    <tr>\n",
       "      <th>75%</th>\n",
       "      <td>150.000000</td>\n",
       "      <td>150.000000</td>\n",
       "      <td>150.000000</td>\n",
       "    </tr>\n",
       "    <tr>\n",
       "      <th>max</th>\n",
       "      <td>200.000000</td>\n",
       "      <td>200.000000</td>\n",
       "      <td>200.000000</td>\n",
       "    </tr>\n",
       "  </tbody>\n",
       "</table>\n",
       "</div>"
      ],
      "text/plain": [
       "         Nitrogen  Phosphorus   Potassium\n",
       "count  201.000000  201.000000  201.000000\n",
       "mean   100.000000  100.000000  100.000000\n",
       "std     58.167861   58.167861   58.167861\n",
       "min      0.000000    0.000000    0.000000\n",
       "25%     50.000000   50.000000   50.000000\n",
       "50%    100.000000  100.000000  100.000000\n",
       "75%    150.000000  150.000000  150.000000\n",
       "max    200.000000  200.000000  200.000000"
      ]
     },
     "execution_count": 130,
     "metadata": {},
     "output_type": "execute_result"
    }
   ],
   "source": [
    "data.describe()"
   ]
  },
  {
   "cell_type": "markdown",
   "id": "ccdd409f",
   "metadata": {},
   "source": [
    "# Import Machine Learning Libraries"
   ]
  },
  {
   "cell_type": "code",
   "execution_count": 131,
   "id": "60ae807d",
   "metadata": {},
   "outputs": [],
   "source": [
    "from sklearn.tree import DecisionTreeClassifier\n",
    "from sklearn.model_selection import train_test_split"
   ]
  },
  {
   "cell_type": "code",
   "execution_count": 132,
   "id": "6c8939a1",
   "metadata": {},
   "outputs": [],
   "source": [
    "X = data.drop(columns='Recommendations')"
   ]
  },
  {
   "cell_type": "code",
   "execution_count": 133,
   "id": "21ae924c",
   "metadata": {},
   "outputs": [
    {
     "data": {
      "text/html": [
       "<div>\n",
       "<style scoped>\n",
       "    .dataframe tbody tr th:only-of-type {\n",
       "        vertical-align: middle;\n",
       "    }\n",
       "\n",
       "    .dataframe tbody tr th {\n",
       "        vertical-align: top;\n",
       "    }\n",
       "\n",
       "    .dataframe thead th {\n",
       "        text-align: right;\n",
       "    }\n",
       "</style>\n",
       "<table border=\"1\" class=\"dataframe\">\n",
       "  <thead>\n",
       "    <tr style=\"text-align: right;\">\n",
       "      <th></th>\n",
       "      <th>Nitrogen</th>\n",
       "      <th>Phosphorus</th>\n",
       "      <th>Potassium</th>\n",
       "    </tr>\n",
       "  </thead>\n",
       "  <tbody>\n",
       "    <tr>\n",
       "      <th>0</th>\n",
       "      <td>0</td>\n",
       "      <td>0</td>\n",
       "      <td>0</td>\n",
       "    </tr>\n",
       "    <tr>\n",
       "      <th>1</th>\n",
       "      <td>1</td>\n",
       "      <td>1</td>\n",
       "      <td>1</td>\n",
       "    </tr>\n",
       "    <tr>\n",
       "      <th>2</th>\n",
       "      <td>2</td>\n",
       "      <td>2</td>\n",
       "      <td>2</td>\n",
       "    </tr>\n",
       "    <tr>\n",
       "      <th>3</th>\n",
       "      <td>3</td>\n",
       "      <td>3</td>\n",
       "      <td>3</td>\n",
       "    </tr>\n",
       "    <tr>\n",
       "      <th>4</th>\n",
       "      <td>4</td>\n",
       "      <td>4</td>\n",
       "      <td>4</td>\n",
       "    </tr>\n",
       "  </tbody>\n",
       "</table>\n",
       "</div>"
      ],
      "text/plain": [
       "   Nitrogen  Phosphorus  Potassium\n",
       "0         0           0          0\n",
       "1         1           1          1\n",
       "2         2           2          2\n",
       "3         3           3          3\n",
       "4         4           4          4"
      ]
     },
     "execution_count": 133,
     "metadata": {},
     "output_type": "execute_result"
    }
   ],
   "source": [
    "X.head()"
   ]
  },
  {
   "cell_type": "code",
   "execution_count": 135,
   "id": "a7c814ef",
   "metadata": {},
   "outputs": [],
   "source": [
    "y = data.drop(columns=['Nitrogen', 'Phosphorus', 'Potassium'])"
   ]
  },
  {
   "cell_type": "code",
   "execution_count": 136,
   "id": "057e2068",
   "metadata": {},
   "outputs": [
    {
     "data": {
      "text/html": [
       "<div>\n",
       "<style scoped>\n",
       "    .dataframe tbody tr th:only-of-type {\n",
       "        vertical-align: middle;\n",
       "    }\n",
       "\n",
       "    .dataframe tbody tr th {\n",
       "        vertical-align: top;\n",
       "    }\n",
       "\n",
       "    .dataframe thead th {\n",
       "        text-align: right;\n",
       "    }\n",
       "</style>\n",
       "<table border=\"1\" class=\"dataframe\">\n",
       "  <thead>\n",
       "    <tr style=\"text-align: right;\">\n",
       "      <th></th>\n",
       "      <th>Recommendations</th>\n",
       "    </tr>\n",
       "  </thead>\n",
       "  <tbody>\n",
       "    <tr>\n",
       "      <th>0</th>\n",
       "      <td>Urea 265kg</td>\n",
       "    </tr>\n",
       "    <tr>\n",
       "      <th>1</th>\n",
       "      <td>Diammonium Phosphate 278kg</td>\n",
       "    </tr>\n",
       "    <tr>\n",
       "      <th>2</th>\n",
       "      <td>14-35-14 268kg</td>\n",
       "    </tr>\n",
       "    <tr>\n",
       "      <th>3</th>\n",
       "      <td>28-28 231kg</td>\n",
       "    </tr>\n",
       "    <tr>\n",
       "      <th>4</th>\n",
       "      <td>Urea 262kg</td>\n",
       "    </tr>\n",
       "  </tbody>\n",
       "</table>\n",
       "</div>"
      ],
      "text/plain": [
       "              Recommendations\n",
       "0                  Urea 265kg\n",
       "1  Diammonium Phosphate 278kg\n",
       "2              14-35-14 268kg\n",
       "3                 28-28 231kg\n",
       "4                  Urea 262kg"
      ]
     },
     "execution_count": 136,
     "metadata": {},
     "output_type": "execute_result"
    }
   ],
   "source": [
    "y.head()"
   ]
  },
  {
   "cell_type": "code",
   "execution_count": 137,
   "id": "7becb7f7",
   "metadata": {},
   "outputs": [],
   "source": [
    "X_train, X_test, y_train, y_test = train_test_split(X, y, test_size=0.2) "
   ]
  },
  {
   "cell_type": "markdown",
   "id": "4dac880d",
   "metadata": {},
   "source": [
    "# Build Machine Learning Model"
   ]
  },
  {
   "cell_type": "code",
   "execution_count": 138,
   "id": "42513170",
   "metadata": {},
   "outputs": [],
   "source": [
    "clf = DecisionTreeClassifier()"
   ]
  },
  {
   "cell_type": "code",
   "execution_count": 139,
   "id": "a92df43f",
   "metadata": {},
   "outputs": [
    {
     "data": {
      "text/plain": [
       "DecisionTreeClassifier()"
      ]
     },
     "execution_count": 139,
     "metadata": {},
     "output_type": "execute_result"
    }
   ],
   "source": [
    "clf.fit(X_train, y_train)"
   ]
  },
  {
   "cell_type": "markdown",
   "id": "c0b06268",
   "metadata": {},
   "source": [
    "# Test Model "
   ]
  },
  {
   "cell_type": "code",
   "execution_count": 140,
   "id": "6f3be7cf",
   "metadata": {},
   "outputs": [],
   "source": [
    "test = clf.predict(X_test)"
   ]
  },
  {
   "cell_type": "code",
   "execution_count": 141,
   "id": "add622ff",
   "metadata": {},
   "outputs": [
    {
     "data": {
      "text/plain": [
       "array(['28-28 171kg', '28-28 143kg', '14-35-14 137kg', '14-35-14 118kg',\n",
       "       'Urea 205kg', '14-35-14 238kg', '17-17-17 120kg', '28-28 189kg',\n",
       "       'Urea 200kg', 'Diammonium Phosphate 134kg', '17-17-17 138kg',\n",
       "       'Urea 194kg', '28-28 189kg', 'Urea 151kg', '28-28 159kg',\n",
       "       '20-20 155kg', 'Calcium Ammonium Nitrate 178kg',\n",
       "       'Diammonium Phosphate 168kg', 'Monoammonium Phosphate 156kg',\n",
       "       'Monoammonium Phosphate 186kg', 'Calcium Ammonium Nitrate 149kg',\n",
       "       '14-35-14 87kg', 'Calcium Ammonium Nitrate 187kg',\n",
       "       '14-35-14 238kg', 'Urea 126kg', '20-20 259kg', '14-35-14 163kg',\n",
       "       'Calcium Ammonium Nitrate 237kg', '14-35-14 179kg', '28-28 213kg',\n",
       "       'Monoammonium Phosphate 196kg', '28-28 281kg',\n",
       "       'Calcium Ammonium Nitrate 208kg', 'Urea 175kg', 'Urea 147kg',\n",
       "       'Urea 194kg', 'Monoammonium Phosphate 211kg', '14-35-14 160kg',\n",
       "       '20-20 99kg', 'Calcium Ammonium Nitrate 166kg',\n",
       "       'Calcium Ammonium Nitrate 275kg'], dtype=object)"
      ]
     },
     "execution_count": 141,
     "metadata": {},
     "output_type": "execute_result"
    }
   ],
   "source": [
    "test"
   ]
  },
  {
   "cell_type": "code",
   "execution_count": 142,
   "id": "c160f695",
   "metadata": {
    "scrolled": true
   },
   "outputs": [
    {
     "data": {
      "text/html": [
       "<div>\n",
       "<style scoped>\n",
       "    .dataframe tbody tr th:only-of-type {\n",
       "        vertical-align: middle;\n",
       "    }\n",
       "\n",
       "    .dataframe tbody tr th {\n",
       "        vertical-align: top;\n",
       "    }\n",
       "\n",
       "    .dataframe thead th {\n",
       "        text-align: right;\n",
       "    }\n",
       "</style>\n",
       "<table border=\"1\" class=\"dataframe\">\n",
       "  <thead>\n",
       "    <tr style=\"text-align: right;\">\n",
       "      <th></th>\n",
       "      <th>Recommendations</th>\n",
       "    </tr>\n",
       "  </thead>\n",
       "  <tbody>\n",
       "    <tr>\n",
       "      <th>82</th>\n",
       "      <td>Urea 170kg</td>\n",
       "    </tr>\n",
       "    <tr>\n",
       "      <th>112</th>\n",
       "      <td>Urea 142kg</td>\n",
       "    </tr>\n",
       "    <tr>\n",
       "      <th>120</th>\n",
       "      <td>Urea 136kg</td>\n",
       "    </tr>\n",
       "    <tr>\n",
       "      <th>188</th>\n",
       "      <td>17-17-17 101kg</td>\n",
       "    </tr>\n",
       "    <tr>\n",
       "      <th>48</th>\n",
       "      <td>14-35-14 204kg</td>\n",
       "    </tr>\n",
       "    <tr>\n",
       "      <th>28</th>\n",
       "      <td>Urea 242kg</td>\n",
       "    </tr>\n",
       "    <tr>\n",
       "      <th>140</th>\n",
       "      <td>20-20 119kg</td>\n",
       "    </tr>\n",
       "    <tr>\n",
       "      <th>154</th>\n",
       "      <td>Urea 188kg</td>\n",
       "    </tr>\n",
       "    <tr>\n",
       "      <th>53</th>\n",
       "      <td>Monoammonium Phosphate 199kg</td>\n",
       "    </tr>\n",
       "    <tr>\n",
       "      <th>184</th>\n",
       "      <td>28-28 145kg</td>\n",
       "    </tr>\n",
       "    <tr>\n",
       "      <th>118</th>\n",
       "      <td>Urea 138kg</td>\n",
       "    </tr>\n",
       "    <tr>\n",
       "      <th>59</th>\n",
       "      <td>14-35-14 193kg</td>\n",
       "    </tr>\n",
       "    <tr>\n",
       "      <th>64</th>\n",
       "      <td>Urea 188kg</td>\n",
       "    </tr>\n",
       "    <tr>\n",
       "      <th>103</th>\n",
       "      <td>14-35-14 150kg</td>\n",
       "    </tr>\n",
       "    <tr>\n",
       "      <th>94</th>\n",
       "      <td>Urea 158kg</td>\n",
       "    </tr>\n",
       "    <tr>\n",
       "      <th>99</th>\n",
       "      <td>28-28 154kg</td>\n",
       "    </tr>\n",
       "    <tr>\n",
       "      <th>165</th>\n",
       "      <td>28-28 177kg</td>\n",
       "    </tr>\n",
       "    <tr>\n",
       "      <th>175</th>\n",
       "      <td>14-35-14 167kg</td>\n",
       "    </tr>\n",
       "    <tr>\n",
       "      <th>97</th>\n",
       "      <td>17-17-17 155kg</td>\n",
       "    </tr>\n",
       "    <tr>\n",
       "      <th>155</th>\n",
       "      <td>Calcium Ammonium Nitrate 187kg</td>\n",
       "    </tr>\n",
       "    <tr>\n",
       "      <th>105</th>\n",
       "      <td>28-28 148kg</td>\n",
       "    </tr>\n",
       "    <tr>\n",
       "      <th>195</th>\n",
       "      <td>Calcium Ammonium Nitrate 64kg</td>\n",
       "    </tr>\n",
       "    <tr>\n",
       "      <th>66</th>\n",
       "      <td>Monoammonium Phosphate 186kg</td>\n",
       "    </tr>\n",
       "    <tr>\n",
       "      <th>19</th>\n",
       "      <td>17-17-17 240kg</td>\n",
       "    </tr>\n",
       "    <tr>\n",
       "      <th>133</th>\n",
       "      <td>14-35-14 126kg</td>\n",
       "    </tr>\n",
       "    <tr>\n",
       "      <th>21</th>\n",
       "      <td>28-28 251kg</td>\n",
       "    </tr>\n",
       "    <tr>\n",
       "      <th>180</th>\n",
       "      <td>Monoammonium Phosphate 162kg</td>\n",
       "    </tr>\n",
       "    <tr>\n",
       "      <th>27</th>\n",
       "      <td>17-17-17 269kg</td>\n",
       "    </tr>\n",
       "    <tr>\n",
       "      <th>74</th>\n",
       "      <td>Calcium Ammonium Nitrate 178kg</td>\n",
       "    </tr>\n",
       "    <tr>\n",
       "      <th>40</th>\n",
       "      <td>14-35-14 212kg</td>\n",
       "    </tr>\n",
       "    <tr>\n",
       "      <th>144</th>\n",
       "      <td>Diammonium Phosphate 198kg</td>\n",
       "    </tr>\n",
       "    <tr>\n",
       "      <th>10</th>\n",
       "      <td>14-35-14 268kg</td>\n",
       "    </tr>\n",
       "    <tr>\n",
       "      <th>45</th>\n",
       "      <td>28-28 207kg</td>\n",
       "    </tr>\n",
       "    <tr>\n",
       "      <th>166</th>\n",
       "      <td>Diammonium Phosphate 176kg</td>\n",
       "    </tr>\n",
       "    <tr>\n",
       "      <th>108</th>\n",
       "      <td>14-35-14 146kg</td>\n",
       "    </tr>\n",
       "    <tr>\n",
       "      <th>149</th>\n",
       "      <td>14-35-14 193kg</td>\n",
       "    </tr>\n",
       "    <tr>\n",
       "      <th>42</th>\n",
       "      <td>Urea 210kg</td>\n",
       "    </tr>\n",
       "    <tr>\n",
       "      <th>183</th>\n",
       "      <td>Calcium Ammonium Nitrate 150kg</td>\n",
       "    </tr>\n",
       "    <tr>\n",
       "      <th>190</th>\n",
       "      <td>28-28 100kg</td>\n",
       "    </tr>\n",
       "    <tr>\n",
       "      <th>87</th>\n",
       "      <td>17-17-17 165kg</td>\n",
       "    </tr>\n",
       "    <tr>\n",
       "      <th>15</th>\n",
       "      <td>28-28 230kg</td>\n",
       "    </tr>\n",
       "  </tbody>\n",
       "</table>\n",
       "</div>"
      ],
      "text/plain": [
       "                    Recommendations\n",
       "82                       Urea 170kg\n",
       "112                      Urea 142kg\n",
       "120                      Urea 136kg\n",
       "188                  17-17-17 101kg\n",
       "48                   14-35-14 204kg\n",
       "28                       Urea 242kg\n",
       "140                     20-20 119kg\n",
       "154                      Urea 188kg\n",
       "53     Monoammonium Phosphate 199kg\n",
       "184                     28-28 145kg\n",
       "118                      Urea 138kg\n",
       "59                   14-35-14 193kg\n",
       "64                       Urea 188kg\n",
       "103                  14-35-14 150kg\n",
       "94                       Urea 158kg\n",
       "99                      28-28 154kg\n",
       "165                     28-28 177kg\n",
       "175                  14-35-14 167kg\n",
       "97                   17-17-17 155kg\n",
       "155  Calcium Ammonium Nitrate 187kg\n",
       "105                     28-28 148kg\n",
       "195   Calcium Ammonium Nitrate 64kg\n",
       "66     Monoammonium Phosphate 186kg\n",
       "19                   17-17-17 240kg\n",
       "133                  14-35-14 126kg\n",
       "21                      28-28 251kg\n",
       "180    Monoammonium Phosphate 162kg\n",
       "27                   17-17-17 269kg\n",
       "74   Calcium Ammonium Nitrate 178kg\n",
       "40                   14-35-14 212kg\n",
       "144      Diammonium Phosphate 198kg\n",
       "10                   14-35-14 268kg\n",
       "45                      28-28 207kg\n",
       "166      Diammonium Phosphate 176kg\n",
       "108                  14-35-14 146kg\n",
       "149                  14-35-14 193kg\n",
       "42                       Urea 210kg\n",
       "183  Calcium Ammonium Nitrate 150kg\n",
       "190                     28-28 100kg\n",
       "87                   17-17-17 165kg\n",
       "15                      28-28 230kg"
      ]
     },
     "execution_count": 142,
     "metadata": {},
     "output_type": "execute_result"
    }
   ],
   "source": [
    "y_test"
   ]
  },
  {
   "cell_type": "markdown",
   "id": "9f03caba",
   "metadata": {},
   "source": [
    "# Check for Efficacy"
   ]
  },
  {
   "cell_type": "code",
   "execution_count": 143,
   "id": "5271bddf",
   "metadata": {},
   "outputs": [],
   "source": [
    "from sklearn.metrics import accuracy_score, confusion_matrix, classification_report"
   ]
  },
  {
   "cell_type": "code",
   "execution_count": 144,
   "id": "82442493",
   "metadata": {},
   "outputs": [],
   "source": [
    "accuracy = accuracy_score(y_test, test)"
   ]
  },
  {
   "cell_type": "code",
   "execution_count": 145,
   "id": "9eae2c22",
   "metadata": {},
   "outputs": [
    {
     "data": {
      "text/plain": [
       "0.0"
      ]
     },
     "execution_count": 145,
     "metadata": {},
     "output_type": "execute_result"
    }
   ],
   "source": [
    "accuracy"
   ]
  },
  {
   "cell_type": "code",
   "execution_count": 146,
   "id": "01e785c0",
   "metadata": {},
   "outputs": [],
   "source": [
    "new_user = clf.predict([[20.0, 80.0, 90.0]])\n"
   ]
  },
  {
   "cell_type": "code",
   "execution_count": 147,
   "id": "68c65ccd",
   "metadata": {},
   "outputs": [
    {
     "data": {
      "text/plain": [
       "array(['Urea 222kg'], dtype=object)"
      ]
     },
     "execution_count": 147,
     "metadata": {},
     "output_type": "execute_result"
    }
   ],
   "source": [
    "new_user"
   ]
  },
  {
   "cell_type": "markdown",
   "id": "6b8409f9",
   "metadata": {},
   "source": [
    "# Save Model"
   ]
  },
  {
   "cell_type": "code",
   "execution_count": 148,
   "id": "a9302b0d",
   "metadata": {},
   "outputs": [
    {
     "data": {
      "text/plain": [
       "['FertRecommender.joblib']"
      ]
     },
     "execution_count": 148,
     "metadata": {},
     "output_type": "execute_result"
    }
   ],
   "source": [
    "import joblib\n",
    "joblib.dump(clf, 'FertRecommender.joblib')"
   ]
  },
  {
   "cell_type": "code",
   "execution_count": 149,
   "id": "9ab35a39",
   "metadata": {},
   "outputs": [],
   "source": [
    "from sklearn.metrics import plot_confusion_matrix\n",
    "from matplotlib import pyplot as plt"
   ]
  },
  {
   "cell_type": "code",
   "execution_count": 150,
   "id": "6103a842",
   "metadata": {},
   "outputs": [
    {
     "data": {
      "text/plain": [
       "array([[0, 0, 0, ..., 0, 0, 0],\n",
       "       [0, 0, 0, ..., 0, 0, 0],\n",
       "       [0, 0, 0, ..., 0, 0, 0],\n",
       "       ...,\n",
       "       [0, 0, 0, ..., 0, 0, 0],\n",
       "       [0, 0, 0, ..., 0, 0, 0],\n",
       "       [0, 0, 0, ..., 0, 0, 0]], dtype=int64)"
      ]
     },
     "execution_count": 150,
     "metadata": {},
     "output_type": "execute_result"
    }
   ],
   "source": [
    "c_matrix = confusion_matrix(y_test, test)\n",
    "c_matrix"
   ]
  },
  {
   "cell_type": "code",
   "execution_count": 151,
   "id": "16740f90",
   "metadata": {},
   "outputs": [
    {
     "data": {
      "text/plain": [
       "<sklearn.metrics._plot.confusion_matrix.ConfusionMatrixDisplay at 0x25814b60850>"
      ]
     },
     "execution_count": 151,
     "metadata": {},
     "output_type": "execute_result"
    },
    {
     "data": {
      "image/png": "[encoded data removed]",
      "text/plain": [
       "<Figure size 432x288 with 2 Axes>"
      ]
     },
     "metadata": {
      "needs_background": "light"
     },
     "output_type": "display_data"
    }
   ],
   "source": [
    "plot_confusion_matrix(clf, X_test, y_test)"
   ]
  },
  {
   "cell_type": "code",
   "execution_count": 152,
   "id": "49ad2ef8",
   "metadata": {
    "scrolled": true
   },
   "outputs": [
    {
     "name": "stdout",
     "output_type": "stream",
     "text": [
      "                                precision    recall  f1-score   support\n",
      "\n",
      "                14-35-14 118kg       0.00      0.00      0.00       0.0\n",
      "                14-35-14 126kg       0.00      0.00      0.00       1.0\n",
      "                14-35-14 137kg       0.00      0.00      0.00       0.0\n",
      "                14-35-14 146kg       0.00      0.00      0.00       1.0\n",
      "                14-35-14 150kg       0.00      0.00      0.00       1.0\n",
      "                14-35-14 160kg       0.00      0.00      0.00       0.0\n",
      "                14-35-14 163kg       0.00      0.00      0.00       0.0\n",
      "                14-35-14 167kg       0.00      0.00      0.00       1.0\n",
      "                14-35-14 179kg       0.00      0.00      0.00       0.0\n",
      "                14-35-14 193kg       0.00      0.00      0.00       2.0\n",
      "                14-35-14 204kg       0.00      0.00      0.00       1.0\n",
      "                14-35-14 212kg       0.00      0.00      0.00       1.0\n",
      "                14-35-14 238kg       0.00      0.00      0.00       0.0\n",
      "                14-35-14 268kg       0.00      0.00      0.00       1.0\n",
      "                 14-35-14 87kg       0.00      0.00      0.00       0.0\n",
      "                17-17-17 101kg       0.00      0.00      0.00       1.0\n",
      "                17-17-17 120kg       0.00      0.00      0.00       0.0\n",
      "                17-17-17 138kg       0.00      0.00      0.00       0.0\n",
      "                17-17-17 155kg       0.00      0.00      0.00       1.0\n",
      "                17-17-17 165kg       0.00      0.00      0.00       1.0\n",
      "                17-17-17 240kg       0.00      0.00      0.00       1.0\n",
      "                17-17-17 269kg       0.00      0.00      0.00       1.0\n",
      "                   20-20 119kg       0.00      0.00      0.00       1.0\n",
      "                   20-20 155kg       0.00      0.00      0.00       0.0\n",
      "                   20-20 259kg       0.00      0.00      0.00       0.0\n",
      "                    20-20 99kg       0.00      0.00      0.00       0.0\n",
      "                   28-28 100kg       0.00      0.00      0.00       1.0\n",
      "                   28-28 143kg       0.00      0.00      0.00       0.0\n",
      "                   28-28 145kg       0.00      0.00      0.00       1.0\n",
      "                   28-28 148kg       0.00      0.00      0.00       1.0\n",
      "                   28-28 154kg       0.00      0.00      0.00       1.0\n",
      "                   28-28 159kg       0.00      0.00      0.00       0.0\n",
      "                   28-28 171kg       0.00      0.00      0.00       0.0\n",
      "                   28-28 177kg       0.00      0.00      0.00       1.0\n",
      "                   28-28 189kg       0.00      0.00      0.00       0.0\n",
      "                   28-28 207kg       0.00      0.00      0.00       1.0\n",
      "                   28-28 213kg       0.00      0.00      0.00       0.0\n",
      "                   28-28 230kg       0.00      0.00      0.00       1.0\n",
      "                   28-28 251kg       0.00      0.00      0.00       1.0\n",
      "                   28-28 281kg       0.00      0.00      0.00       0.0\n",
      "Calcium Ammonium Nitrate 149kg       0.00      0.00      0.00       0.0\n",
      "Calcium Ammonium Nitrate 150kg       0.00      0.00      0.00       1.0\n",
      "Calcium Ammonium Nitrate 166kg       0.00      0.00      0.00       0.0\n",
      "Calcium Ammonium Nitrate 178kg       0.00      0.00      0.00       1.0\n",
      "Calcium Ammonium Nitrate 187kg       0.00      0.00      0.00       1.0\n",
      "Calcium Ammonium Nitrate 208kg       0.00      0.00      0.00       0.0\n",
      "Calcium Ammonium Nitrate 237kg       0.00      0.00      0.00       0.0\n",
      "Calcium Ammonium Nitrate 275kg       0.00      0.00      0.00       0.0\n",
      " Calcium Ammonium Nitrate 64kg       0.00      0.00      0.00       1.0\n",
      "    Diammonium Phosphate 134kg       0.00      0.00      0.00       0.0\n",
      "    Diammonium Phosphate 168kg       0.00      0.00      0.00       0.0\n",
      "    Diammonium Phosphate 176kg       0.00      0.00      0.00       1.0\n",
      "    Diammonium Phosphate 198kg       0.00      0.00      0.00       1.0\n",
      "  Monoammonium Phosphate 156kg       0.00      0.00      0.00       0.0\n",
      "  Monoammonium Phosphate 162kg       0.00      0.00      0.00       1.0\n",
      "  Monoammonium Phosphate 186kg       0.00      0.00      0.00       1.0\n",
      "  Monoammonium Phosphate 196kg       0.00      0.00      0.00       0.0\n",
      "  Monoammonium Phosphate 199kg       0.00      0.00      0.00       1.0\n",
      "  Monoammonium Phosphate 211kg       0.00      0.00      0.00       0.0\n",
      "                    Urea 126kg       0.00      0.00      0.00       0.0\n",
      "                    Urea 136kg       0.00      0.00      0.00       1.0\n",
      "                    Urea 138kg       0.00      0.00      0.00       1.0\n",
      "                    Urea 142kg       0.00      0.00      0.00       1.0\n",
      "                    Urea 147kg       0.00      0.00      0.00       0.0\n",
      "                    Urea 151kg       0.00      0.00      0.00       0.0\n",
      "                    Urea 158kg       0.00      0.00      0.00       1.0\n",
      "                    Urea 170kg       0.00      0.00      0.00       1.0\n",
      "                    Urea 175kg       0.00      0.00      0.00       0.0\n",
      "                    Urea 188kg       0.00      0.00      0.00       2.0\n",
      "                    Urea 194kg       0.00      0.00      0.00       0.0\n",
      "                    Urea 200kg       0.00      0.00      0.00       0.0\n",
      "                    Urea 205kg       0.00      0.00      0.00       0.0\n",
      "                    Urea 210kg       0.00      0.00      0.00       1.0\n",
      "                    Urea 242kg       0.00      0.00      0.00       1.0\n",
      "\n",
      "                      accuracy                           0.00      41.0\n",
      "                     macro avg       0.00      0.00      0.00      41.0\n",
      "                  weighted avg       0.00      0.00      0.00      41.0\n",
      "\n"
     ]
    },
    {
     "name": "stderr",
     "output_type": "stream",
     "text": [
      "C:\\Users\\ISAAC\\anaconda3\\lib\\site-packages\\sklearn\\metrics\\_classification.py:1245: UndefinedMetricWarning: Precision and F-score are ill-defined and being set to 0.0 in labels with no predicted samples. Use `zero_division` parameter to control this behavior.\n",
      "  _warn_prf(average, modifier, msg_start, len(result))\n",
      "C:\\Users\\ISAAC\\anaconda3\\lib\\site-packages\\sklearn\\metrics\\_classification.py:1245: UndefinedMetricWarning: Recall and F-score are ill-defined and being set to 0.0 in labels with no true samples. Use `zero_division` parameter to control this behavior.\n",
      "  _warn_prf(average, modifier, msg_start, len(result))\n",
      "C:\\Users\\ISAAC\\anaconda3\\lib\\site-packages\\sklearn\\metrics\\_classification.py:1245: UndefinedMetricWarning: Precision and F-score are ill-defined and being set to 0.0 in labels with no predicted samples. Use `zero_division` parameter to control this behavior.\n",
      "  _warn_prf(average, modifier, msg_start, len(result))\n",
      "C:\\Users\\ISAAC\\anaconda3\\lib\\site-packages\\sklearn\\metrics\\_classification.py:1245: UndefinedMetricWarning: Recall and F-score are ill-defined and being set to 0.0 in labels with no true samples. Use `zero_division` parameter to control this behavior.\n",
      "  _warn_prf(average, modifier, msg_start, len(result))\n",
      "C:\\Users\\ISAAC\\anaconda3\\lib\\site-packages\\sklearn\\metrics\\_classification.py:1245: UndefinedMetricWarning: Precision and F-score are ill-defined and being set to 0.0 in labels with no predicted samples. Use `zero_division` parameter to control this behavior.\n",
      "  _warn_prf(average, modifier, msg_start, len(result))\n",
      "C:\\Users\\ISAAC\\anaconda3\\lib\\site-packages\\sklearn\\metrics\\_classification.py:1245: UndefinedMetricWarning: Recall and F-score are ill-defined and being set to 0.0 in labels with no true samples. Use `zero_division` parameter to control this behavior.\n",
      "  _warn_prf(average, modifier, msg_start, len(result))\n"
     ]
    }
   ],
   "source": [
    "print(classification_report(y_test, test))"
   ]
  },
  {
   "cell_type": "code",
   "execution_count": 124,
   "id": "2ea4a006",
   "metadata": {},
   "outputs": [],
   "source": [
    "from sklearn import tree\n",
    "# X = data.drop(columns=['Recommendations'])\n",
    "y = data['Recommendations']\n",
    "\n",
    "tree.export_graphviz(clf, out_file='FertilizerRecommendation.dot',\n",
    "                    feature_names=['Nitrogen', 'Phosphorus', 'Potassium'],\n",
    "                    class_names=sorted(y.unique()),\n",
    "                    label='all',\n",
    "                    rounded=True,\n",
    "                    filled=True)\n",
    "                    "
   ]
  }
 ],
 "metadata": {
  "kernelspec": {
   "display_name": "Python 3",
   "language": "python",
   "name": "python3"
  },
  "language_info": {
   "codemirror_mode": {
    "name": "ipython",
    "version": 3
   },
   "file_extension": ".py",
   "mimetype": "text/x-python",
   "name": "python",
   "nbconvert_exporter": "python",
   "pygments_lexer": "ipython3",
   "version": "3.8.8"
  }
 },
 "nbformat": 4,
 "nbformat_minor": 5
}
