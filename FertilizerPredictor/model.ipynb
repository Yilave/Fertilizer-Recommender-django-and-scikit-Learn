{
 "cells": [
  {
   "cell_type": "markdown",
   "id": "21236afa",
   "metadata": {},
   "source": [
    "# Importing Libraries"
   ]
  },
  {
   "cell_type": "code",
   "execution_count": 6,
   "id": "e4f1b926",
   "metadata": {},
   "outputs": [],
   "source": [
    "import pandas as pd"
   ]
  },
  {
   "cell_type": "markdown",
   "id": "a348110c",
   "metadata": {},
   "source": [
    "# Import data"
   ]
  },
  {
   "cell_type": "code",
   "execution_count": 7,
   "id": "527090fe",
   "metadata": {},
   "outputs": [],
   "source": [
    "data = pd.read_csv('soilfertility.csv')"
   ]
  },
  {
   "cell_type": "code",
   "execution_count": 8,
   "id": "8dbbbf80",
   "metadata": {},
   "outputs": [
    {
     "data": {
      "text/html": [
       "<div>\n",
       "<style scoped>\n",
       "    .dataframe tbody tr th:only-of-type {\n",
       "        vertical-align: middle;\n",
       "    }\n",
       "\n",
       "    .dataframe tbody tr th {\n",
       "        vertical-align: top;\n",
       "    }\n",
       "\n",
       "    .dataframe thead th {\n",
       "        text-align: right;\n",
       "    }\n",
       "</style>\n",
       "<table border=\"1\" class=\"dataframe\">\n",
       "  <thead>\n",
       "    <tr style=\"text-align: right;\">\n",
       "      <th></th>\n",
       "      <th>Nitrogen</th>\n",
       "      <th>Phosphorus</th>\n",
       "      <th>Potassium</th>\n",
       "      <th>Recommendations</th>\n",
       "    </tr>\n",
       "  </thead>\n",
       "  <tbody>\n",
       "    <tr>\n",
       "      <th>0</th>\n",
       "      <td>0</td>\n",
       "      <td>0</td>\n",
       "      <td>0</td>\n",
       "      <td>Urea 265kg</td>\n",
       "    </tr>\n",
       "    <tr>\n",
       "      <th>1</th>\n",
       "      <td>1</td>\n",
       "      <td>1</td>\n",
       "      <td>1</td>\n",
       "      <td>Diammonium Phosphate 278kg</td>\n",
       "    </tr>\n",
       "    <tr>\n",
       "      <th>2</th>\n",
       "      <td>2</td>\n",
       "      <td>2</td>\n",
       "      <td>2</td>\n",
       "      <td>14-35-14 268kg</td>\n",
       "    </tr>\n",
       "    <tr>\n",
       "      <th>3</th>\n",
       "      <td>3</td>\n",
       "      <td>3</td>\n",
       "      <td>3</td>\n",
       "      <td>28-28 231kg</td>\n",
       "    </tr>\n",
       "    <tr>\n",
       "      <th>4</th>\n",
       "      <td>4</td>\n",
       "      <td>4</td>\n",
       "      <td>4</td>\n",
       "      <td>Urea 262kg</td>\n",
       "    </tr>\n",
       "    <tr>\n",
       "      <th>...</th>\n",
       "      <td>...</td>\n",
       "      <td>...</td>\n",
       "      <td>...</td>\n",
       "      <td>...</td>\n",
       "    </tr>\n",
       "    <tr>\n",
       "      <th>196</th>\n",
       "      <td>196</td>\n",
       "      <td>196</td>\n",
       "      <td>196</td>\n",
       "      <td>17-17-17 55kg</td>\n",
       "    </tr>\n",
       "    <tr>\n",
       "      <th>197</th>\n",
       "      <td>197</td>\n",
       "      <td>197</td>\n",
       "      <td>197</td>\n",
       "      <td>Urea 63kg</td>\n",
       "    </tr>\n",
       "    <tr>\n",
       "      <th>198</th>\n",
       "      <td>198</td>\n",
       "      <td>198</td>\n",
       "      <td>198</td>\n",
       "      <td>14-35-14 60kg</td>\n",
       "    </tr>\n",
       "    <tr>\n",
       "      <th>199</th>\n",
       "      <td>199</td>\n",
       "      <td>199</td>\n",
       "      <td>199</td>\n",
       "      <td>Diammonium Phosphate 50kg</td>\n",
       "    </tr>\n",
       "    <tr>\n",
       "      <th>200</th>\n",
       "      <td>200</td>\n",
       "      <td>200</td>\n",
       "      <td>200</td>\n",
       "      <td>28-28 45kg</td>\n",
       "    </tr>\n",
       "  </tbody>\n",
       "</table>\n",
       "<p>201 rows × 4 columns</p>\n",
       "</div>"
      ],
      "text/plain": [
       "     Nitrogen  Phosphorus  Potassium             Recommendations\n",
       "0           0           0          0                  Urea 265kg\n",
       "1           1           1          1  Diammonium Phosphate 278kg\n",
       "2           2           2          2              14-35-14 268kg\n",
       "3           3           3          3                 28-28 231kg\n",
       "4           4           4          4                  Urea 262kg\n",
       "..        ...         ...        ...                         ...\n",
       "196       196         196        196               17-17-17 55kg\n",
       "197       197         197        197                   Urea 63kg\n",
       "198       198         198        198               14-35-14 60kg\n",
       "199       199         199        199   Diammonium Phosphate 50kg\n",
       "200       200         200        200                  28-28 45kg\n",
       "\n",
       "[201 rows x 4 columns]"
      ]
     },
     "execution_count": 8,
     "metadata": {},
     "output_type": "execute_result"
    }
   ],
   "source": [
    "data"
   ]
  },
  {
   "cell_type": "code",
   "execution_count": 9,
   "id": "bf41c311",
   "metadata": {},
   "outputs": [
    {
     "data": {
      "text/plain": [
       "<bound method NDFrame.head of      Nitrogen  Phosphorus  Potassium             Recommendations\n",
       "0           0           0          0                  Urea 265kg\n",
       "1           1           1          1  Diammonium Phosphate 278kg\n",
       "2           2           2          2              14-35-14 268kg\n",
       "3           3           3          3                 28-28 231kg\n",
       "4           4           4          4                  Urea 262kg\n",
       "..        ...         ...        ...                         ...\n",
       "196       196         196        196               17-17-17 55kg\n",
       "197       197         197        197                   Urea 63kg\n",
       "198       198         198        198               14-35-14 60kg\n",
       "199       199         199        199   Diammonium Phosphate 50kg\n",
       "200       200         200        200                  28-28 45kg\n",
       "\n",
       "[201 rows x 4 columns]>"
      ]
     },
     "execution_count": 9,
     "metadata": {},
     "output_type": "execute_result"
    }
   ],
   "source": [
    "data.head"
   ]
  },
  {
   "cell_type": "code",
   "execution_count": 10,
   "id": "58229720",
   "metadata": {},
   "outputs": [
    {
     "data": {
      "text/plain": [
       "<bound method NDFrame.tail of      Nitrogen  Phosphorus  Potassium             Recommendations\n",
       "0           0           0          0                  Urea 265kg\n",
       "1           1           1          1  Diammonium Phosphate 278kg\n",
       "2           2           2          2              14-35-14 268kg\n",
       "3           3           3          3                 28-28 231kg\n",
       "4           4           4          4                  Urea 262kg\n",
       "..        ...         ...        ...                         ...\n",
       "196       196         196        196               17-17-17 55kg\n",
       "197       197         197        197                   Urea 63kg\n",
       "198       198         198        198               14-35-14 60kg\n",
       "199       199         199        199   Diammonium Phosphate 50kg\n",
       "200       200         200        200                  28-28 45kg\n",
       "\n",
       "[201 rows x 4 columns]>"
      ]
     },
     "execution_count": 10,
     "metadata": {},
     "output_type": "execute_result"
    }
   ],
   "source": [
    "data.tail"
   ]
  },
  {
   "cell_type": "code",
   "execution_count": 11,
   "id": "6301998a",
   "metadata": {},
   "outputs": [
    {
     "data": {
      "text/plain": [
       "(201, 4)"
      ]
     },
     "execution_count": 11,
     "metadata": {},
     "output_type": "execute_result"
    }
   ],
   "source": [
    "data.shape"
   ]
  },
  {
   "cell_type": "code",
   "execution_count": 12,
   "id": "7b8b5d37",
   "metadata": {},
   "outputs": [
    {
     "data": {
      "text/html": [
       "<div>\n",
       "<style scoped>\n",
       "    .dataframe tbody tr th:only-of-type {\n",
       "        vertical-align: middle;\n",
       "    }\n",
       "\n",
       "    .dataframe tbody tr th {\n",
       "        vertical-align: top;\n",
       "    }\n",
       "\n",
       "    .dataframe thead th {\n",
       "        text-align: right;\n",
       "    }\n",
       "</style>\n",
       "<table border=\"1\" class=\"dataframe\">\n",
       "  <thead>\n",
       "    <tr style=\"text-align: right;\">\n",
       "      <th></th>\n",
       "      <th>Nitrogen</th>\n",
       "      <th>Phosphorus</th>\n",
       "      <th>Potassium</th>\n",
       "    </tr>\n",
       "  </thead>\n",
       "  <tbody>\n",
       "    <tr>\n",
       "      <th>count</th>\n",
       "      <td>201.000000</td>\n",
       "      <td>201.000000</td>\n",
       "      <td>201.000000</td>\n",
       "    </tr>\n",
       "    <tr>\n",
       "      <th>mean</th>\n",
       "      <td>100.000000</td>\n",
       "      <td>100.000000</td>\n",
       "      <td>100.000000</td>\n",
       "    </tr>\n",
       "    <tr>\n",
       "      <th>std</th>\n",
       "      <td>58.167861</td>\n",
       "      <td>58.167861</td>\n",
       "      <td>58.167861</td>\n",
       "    </tr>\n",
       "    <tr>\n",
       "      <th>min</th>\n",
       "      <td>0.000000</td>\n",
       "      <td>0.000000</td>\n",
       "      <td>0.000000</td>\n",
       "    </tr>\n",
       "    <tr>\n",
       "      <th>25%</th>\n",
       "      <td>50.000000</td>\n",
       "      <td>50.000000</td>\n",
       "      <td>50.000000</td>\n",
       "    </tr>\n",
       "    <tr>\n",
       "      <th>50%</th>\n",
       "      <td>100.000000</td>\n",
       "      <td>100.000000</td>\n",
       "      <td>100.000000</td>\n",
       "    </tr>\n",
       "    <tr>\n",
       "      <th>75%</th>\n",
       "      <td>150.000000</td>\n",
       "      <td>150.000000</td>\n",
       "      <td>150.000000</td>\n",
       "    </tr>\n",
       "    <tr>\n",
       "      <th>max</th>\n",
       "      <td>200.000000</td>\n",
       "      <td>200.000000</td>\n",
       "      <td>200.000000</td>\n",
       "    </tr>\n",
       "  </tbody>\n",
       "</table>\n",
       "</div>"
      ],
      "text/plain": [
       "         Nitrogen  Phosphorus   Potassium\n",
       "count  201.000000  201.000000  201.000000\n",
       "mean   100.000000  100.000000  100.000000\n",
       "std     58.167861   58.167861   58.167861\n",
       "min      0.000000    0.000000    0.000000\n",
       "25%     50.000000   50.000000   50.000000\n",
       "50%    100.000000  100.000000  100.000000\n",
       "75%    150.000000  150.000000  150.000000\n",
       "max    200.000000  200.000000  200.000000"
      ]
     },
     "execution_count": 12,
     "metadata": {},
     "output_type": "execute_result"
    }
   ],
   "source": [
    "data.describe()"
   ]
  },
  {
   "cell_type": "markdown",
   "id": "ccdd409f",
   "metadata": {},
   "source": [
    "# Import Machine Learning Libraries"
   ]
  },
  {
   "cell_type": "code",
   "execution_count": 13,
   "id": "60ae807d",
   "metadata": {},
   "outputs": [],
   "source": [
    "from sklearn.tree import DecisionTreeClassifier\n",
    "from sklearn.model_selection import train_test_split"
   ]
  },
  {
   "cell_type": "code",
   "execution_count": 14,
   "id": "6c8939a1",
   "metadata": {},
   "outputs": [],
   "source": [
    "X = data.drop(columns='Recommendations')"
   ]
  },
  {
   "cell_type": "code",
   "execution_count": 23,
   "id": "21ae924c",
   "metadata": {},
   "outputs": [
    {
     "data": {
      "text/html": [
       "<div>\n",
       "<style scoped>\n",
       "    .dataframe tbody tr th:only-of-type {\n",
       "        vertical-align: middle;\n",
       "    }\n",
       "\n",
       "    .dataframe tbody tr th {\n",
       "        vertical-align: top;\n",
       "    }\n",
       "\n",
       "    .dataframe thead th {\n",
       "        text-align: right;\n",
       "    }\n",
       "</style>\n",
       "<table border=\"1\" class=\"dataframe\">\n",
       "  <thead>\n",
       "    <tr style=\"text-align: right;\">\n",
       "      <th></th>\n",
       "      <th>Nitrogen</th>\n",
       "      <th>Phosphorus</th>\n",
       "      <th>Potassium</th>\n",
       "    </tr>\n",
       "  </thead>\n",
       "  <tbody>\n",
       "    <tr>\n",
       "      <th>0</th>\n",
       "      <td>0</td>\n",
       "      <td>0</td>\n",
       "      <td>0</td>\n",
       "    </tr>\n",
       "    <tr>\n",
       "      <th>1</th>\n",
       "      <td>1</td>\n",
       "      <td>1</td>\n",
       "      <td>1</td>\n",
       "    </tr>\n",
       "    <tr>\n",
       "      <th>2</th>\n",
       "      <td>2</td>\n",
       "      <td>2</td>\n",
       "      <td>2</td>\n",
       "    </tr>\n",
       "    <tr>\n",
       "      <th>3</th>\n",
       "      <td>3</td>\n",
       "      <td>3</td>\n",
       "      <td>3</td>\n",
       "    </tr>\n",
       "    <tr>\n",
       "      <th>4</th>\n",
       "      <td>4</td>\n",
       "      <td>4</td>\n",
       "      <td>4</td>\n",
       "    </tr>\n",
       "  </tbody>\n",
       "</table>\n",
       "</div>"
      ],
      "text/plain": [
       "   Nitrogen  Phosphorus  Potassium\n",
       "0         0           0          0\n",
       "1         1           1          1\n",
       "2         2           2          2\n",
       "3         3           3          3\n",
       "4         4           4          4"
      ]
     },
     "execution_count": 23,
     "metadata": {},
     "output_type": "execute_result"
    }
   ],
   "source": [
    "X.head()"
   ]
  },
  {
   "cell_type": "code",
   "execution_count": 24,
   "id": "a7c814ef",
   "metadata": {},
   "outputs": [],
   "source": [
    "y = data.drop(columns=['Nitrogen', 'Phosphorus', 'Potassium'])"
   ]
  },
  {
   "cell_type": "code",
   "execution_count": 25,
   "id": "057e2068",
   "metadata": {},
   "outputs": [
    {
     "data": {
      "text/html": [
       "<div>\n",
       "<style scoped>\n",
       "    .dataframe tbody tr th:only-of-type {\n",
       "        vertical-align: middle;\n",
       "    }\n",
       "\n",
       "    .dataframe tbody tr th {\n",
       "        vertical-align: top;\n",
       "    }\n",
       "\n",
       "    .dataframe thead th {\n",
       "        text-align: right;\n",
       "    }\n",
       "</style>\n",
       "<table border=\"1\" class=\"dataframe\">\n",
       "  <thead>\n",
       "    <tr style=\"text-align: right;\">\n",
       "      <th></th>\n",
       "      <th>Recommendations</th>\n",
       "    </tr>\n",
       "  </thead>\n",
       "  <tbody>\n",
       "    <tr>\n",
       "      <th>0</th>\n",
       "      <td>Urea 265kg</td>\n",
       "    </tr>\n",
       "    <tr>\n",
       "      <th>1</th>\n",
       "      <td>Diammonium Phosphate 278kg</td>\n",
       "    </tr>\n",
       "    <tr>\n",
       "      <th>2</th>\n",
       "      <td>14-35-14 268kg</td>\n",
       "    </tr>\n",
       "    <tr>\n",
       "      <th>3</th>\n",
       "      <td>28-28 231kg</td>\n",
       "    </tr>\n",
       "    <tr>\n",
       "      <th>4</th>\n",
       "      <td>Urea 262kg</td>\n",
       "    </tr>\n",
       "  </tbody>\n",
       "</table>\n",
       "</div>"
      ],
      "text/plain": [
       "              Recommendations\n",
       "0                  Urea 265kg\n",
       "1  Diammonium Phosphate 278kg\n",
       "2              14-35-14 268kg\n",
       "3                 28-28 231kg\n",
       "4                  Urea 262kg"
      ]
     },
     "execution_count": 25,
     "metadata": {},
     "output_type": "execute_result"
    }
   ],
   "source": [
    "y.head()"
   ]
  },
  {
   "cell_type": "code",
   "execution_count": 26,
   "id": "7becb7f7",
   "metadata": {},
   "outputs": [],
   "source": [
    "X_train, X_test, y_train, y_test = train_test_split(X, y, test_size=0.2) "
   ]
  },
  {
   "cell_type": "markdown",
   "id": "4dac880d",
   "metadata": {},
   "source": [
    "# Build Machine Learning Model"
   ]
  },
  {
   "cell_type": "code",
   "execution_count": 27,
   "id": "42513170",
   "metadata": {},
   "outputs": [],
   "source": [
    "clf = DecisionTreeClassifier()"
   ]
  },
  {
   "cell_type": "code",
   "execution_count": 28,
   "id": "a92df43f",
   "metadata": {},
   "outputs": [
    {
     "data": {
      "text/html": [
       "<style>#sk-container-id-3 {color: black;}#sk-container-id-3 pre{padding: 0;}#sk-container-id-3 div.sk-toggleable {background-color: white;}#sk-container-id-3 label.sk-toggleable__label {cursor: pointer;display: block;width: 100%;margin-bottom: 0;padding: 0.3em;box-sizing: border-box;text-align: center;}#sk-container-id-3 label.sk-toggleable__label-arrow:before {content: \"▸\";float: left;margin-right: 0.25em;color: #696969;}#sk-container-id-3 label.sk-toggleable__label-arrow:hover:before {color: black;}#sk-container-id-3 div.sk-estimator:hover label.sk-toggleable__label-arrow:before {color: black;}#sk-container-id-3 div.sk-toggleable__content {max-height: 0;max-width: 0;overflow: hidden;text-align: left;background-color: #f0f8ff;}#sk-container-id-3 div.sk-toggleable__content pre {margin: 0.2em;color: black;border-radius: 0.25em;background-color: #f0f8ff;}#sk-container-id-3 input.sk-toggleable__control:checked~div.sk-toggleable__content {max-height: 200px;max-width: 100%;overflow: auto;}#sk-container-id-3 input.sk-toggleable__control:checked~label.sk-toggleable__label-arrow:before {content: \"▾\";}#sk-container-id-3 div.sk-estimator input.sk-toggleable__control:checked~label.sk-toggleable__label {background-color: #d4ebff;}#sk-container-id-3 div.sk-label input.sk-toggleable__control:checked~label.sk-toggleable__label {background-color: #d4ebff;}#sk-container-id-3 input.sk-hidden--visually {border: 0;clip: rect(1px 1px 1px 1px);clip: rect(1px, 1px, 1px, 1px);height: 1px;margin: -1px;overflow: hidden;padding: 0;position: absolute;width: 1px;}#sk-container-id-3 div.sk-estimator {font-family: monospace;background-color: #f0f8ff;border: 1px dotted black;border-radius: 0.25em;box-sizing: border-box;margin-bottom: 0.5em;}#sk-container-id-3 div.sk-estimator:hover {background-color: #d4ebff;}#sk-container-id-3 div.sk-parallel-item::after {content: \"\";width: 100%;border-bottom: 1px solid gray;flex-grow: 1;}#sk-container-id-3 div.sk-label:hover label.sk-toggleable__label {background-color: #d4ebff;}#sk-container-id-3 div.sk-serial::before {content: \"\";position: absolute;border-left: 1px solid gray;box-sizing: border-box;top: 0;bottom: 0;left: 50%;z-index: 0;}#sk-container-id-3 div.sk-serial {display: flex;flex-direction: column;align-items: center;background-color: white;padding-right: 0.2em;padding-left: 0.2em;position: relative;}#sk-container-id-3 div.sk-item {position: relative;z-index: 1;}#sk-container-id-3 div.sk-parallel {display: flex;align-items: stretch;justify-content: center;background-color: white;position: relative;}#sk-container-id-3 div.sk-item::before, #sk-container-id-3 div.sk-parallel-item::before {content: \"\";position: absolute;border-left: 1px solid gray;box-sizing: border-box;top: 0;bottom: 0;left: 50%;z-index: -1;}#sk-container-id-3 div.sk-parallel-item {display: flex;flex-direction: column;z-index: 1;position: relative;background-color: white;}#sk-container-id-3 div.sk-parallel-item:first-child::after {align-self: flex-end;width: 50%;}#sk-container-id-3 div.sk-parallel-item:last-child::after {align-self: flex-start;width: 50%;}#sk-container-id-3 div.sk-parallel-item:only-child::after {width: 0;}#sk-container-id-3 div.sk-dashed-wrapped {border: 1px dashed gray;margin: 0 0.4em 0.5em 0.4em;box-sizing: border-box;padding-bottom: 0.4em;background-color: white;}#sk-container-id-3 div.sk-label label {font-family: monospace;font-weight: bold;display: inline-block;line-height: 1.2em;}#sk-container-id-3 div.sk-label-container {text-align: center;}#sk-container-id-3 div.sk-container {/* jupyter's `normalize.less` sets `[hidden] { display: none; }` but bootstrap.min.css set `[hidden] { display: none !important; }` so we also need the `!important` here to be able to override the default hidden behavior on the sphinx rendered scikit-learn.org. See: https://github.com/scikit-learn/scikit-learn/issues/21755 */display: inline-block !important;position: relative;}#sk-container-id-3 div.sk-text-repr-fallback {display: none;}</style><div id=\"sk-container-id-3\" class=\"sk-top-container\"><div class=\"sk-text-repr-fallback\"><pre>DecisionTreeClassifier()</pre><b>In a Jupyter environment, please rerun this cell to show the HTML representation or trust the notebook. <br />On GitHub, the HTML representation is unable to render, please try loading this page with nbviewer.org.</b></div><div class=\"sk-container\" hidden><div class=\"sk-item\"><div class=\"sk-estimator sk-toggleable\"><input class=\"sk-toggleable__control sk-hidden--visually\" id=\"sk-estimator-id-3\" type=\"checkbox\" checked><label for=\"sk-estimator-id-3\" class=\"sk-toggleable__label sk-toggleable__label-arrow\">DecisionTreeClassifier</label><div class=\"sk-toggleable__content\"><pre>DecisionTreeClassifier()</pre></div></div></div></div></div>"
      ],
      "text/plain": [
       "DecisionTreeClassifier()"
      ]
     },
     "execution_count": 28,
     "metadata": {},
     "output_type": "execute_result"
    }
   ],
   "source": [
    "clf.fit(X_train, y_train)"
   ]
  },
  {
   "cell_type": "markdown",
   "id": "c0b06268",
   "metadata": {},
   "source": [
    "# Test Model "
   ]
  },
  {
   "cell_type": "code",
   "execution_count": 29,
   "id": "6f3be7cf",
   "metadata": {},
   "outputs": [],
   "source": [
    "test = clf.predict(X_test)"
   ]
  },
  {
   "cell_type": "code",
   "execution_count": 30,
   "id": "add622ff",
   "metadata": {},
   "outputs": [
    {
     "data": {
      "text/plain": [
       "array(['17-17-17 101kg', 'Urea 222kg', '17-17-17 173kg',\n",
       "       'Calcium Ammonium Nitrate 285kg', 'Urea 175kg', '17-17-17 173kg',\n",
       "       '20-20 119kg', '14-35-14 190kg', 'Diammonium Phosphate 134kg',\n",
       "       'Urea 170kg', '14-35-14 167kg', 'Calcium Ammonium Nitrate 196kg',\n",
       "       'Urea 158kg', 'Diammonium Phosphate 90kg',\n",
       "       'Diammonium Phosphate 206kg', '20-20 184kg', 'Urea 151kg',\n",
       "       '14-35-14 193kg', 'Diammonium Phosphate 161kg',\n",
       "       'Diammonium Phosphate 50kg', 'Diammonium Phosphate 141kg',\n",
       "       'Calcium Ammonium Nitrate 275kg', '14-35-14 197kg',\n",
       "       'Monoammonium Phosphate 100kg', '28-28 251kg',\n",
       "       'Diammonium Phosphate 168kg', '20-20 144kg', 'Urea 122kg',\n",
       "       'Monoammonium Phosphate 127kg', 'Monoammonium Phosphate 181kg',\n",
       "       'Diammonium Phosphate 148kg', 'Urea 245kg', '17-17-17 145kg',\n",
       "       '28-28 148kg', '14-35-14 179kg', '28-28 198kg',\n",
       "       'Monoammonium Phosphate 216kg', '17-17-17 101kg', '20-20 128kg',\n",
       "       '14-35-14 193kg', '20-20 259kg'], dtype=object)"
      ]
     },
     "execution_count": 30,
     "metadata": {},
     "output_type": "execute_result"
    }
   ],
   "source": [
    "test"
   ]
  },
  {
   "cell_type": "code",
   "execution_count": 31,
   "id": "c160f695",
   "metadata": {
    "scrolled": true
   },
   "outputs": [
    {
     "data": {
      "text/html": [
       "<div>\n",
       "<style scoped>\n",
       "    .dataframe tbody tr th:only-of-type {\n",
       "        vertical-align: middle;\n",
       "    }\n",
       "\n",
       "    .dataframe tbody tr th {\n",
       "        vertical-align: top;\n",
       "    }\n",
       "\n",
       "    .dataframe thead th {\n",
       "        text-align: right;\n",
       "    }\n",
       "</style>\n",
       "<table border=\"1\" class=\"dataframe\">\n",
       "  <thead>\n",
       "    <tr style=\"text-align: right;\">\n",
       "      <th></th>\n",
       "      <th>Recommendations</th>\n",
       "    </tr>\n",
       "  </thead>\n",
       "  <tbody>\n",
       "    <tr>\n",
       "      <th>189</th>\n",
       "      <td>20-20 99kg</td>\n",
       "    </tr>\n",
       "    <tr>\n",
       "      <th>31</th>\n",
       "      <td>Diammonium Phosphate 221kg</td>\n",
       "    </tr>\n",
       "    <tr>\n",
       "      <th>170</th>\n",
       "      <td>20-20 172kg</td>\n",
       "    </tr>\n",
       "    <tr>\n",
       "      <th>6</th>\n",
       "      <td>Monoammonium Phosphate 198kg</td>\n",
       "    </tr>\n",
       "    <tr>\n",
       "      <th>168</th>\n",
       "      <td>14-35-14 174kg</td>\n",
       "    </tr>\n",
       "    <tr>\n",
       "      <th>80</th>\n",
       "      <td>20-20 172kg</td>\n",
       "    </tr>\n",
       "    <tr>\n",
       "      <th>139</th>\n",
       "      <td>17-17-17 120kg</td>\n",
       "    </tr>\n",
       "    <tr>\n",
       "      <th>153</th>\n",
       "      <td>28-28 189kg</td>\n",
       "    </tr>\n",
       "    <tr>\n",
       "      <th>186</th>\n",
       "      <td>Urea 123kg</td>\n",
       "    </tr>\n",
       "    <tr>\n",
       "      <th>83</th>\n",
       "      <td>Monoammonium Phosphate 169kg</td>\n",
       "    </tr>\n",
       "    <tr>\n",
       "      <th>176</th>\n",
       "      <td>Calcium Ammonium Nitrate 166kg</td>\n",
       "    </tr>\n",
       "    <tr>\n",
       "      <th>57</th>\n",
       "      <td>17-17-17 195kg</td>\n",
       "    </tr>\n",
       "    <tr>\n",
       "      <th>93</th>\n",
       "      <td>28-28 159kg</td>\n",
       "    </tr>\n",
       "    <tr>\n",
       "      <th>194</th>\n",
       "      <td>14-35-14 87kg</td>\n",
       "    </tr>\n",
       "    <tr>\n",
       "      <th>47</th>\n",
       "      <td>Urea 205kg</td>\n",
       "    </tr>\n",
       "    <tr>\n",
       "      <th>69</th>\n",
       "      <td>28-28 183kg</td>\n",
       "    </tr>\n",
       "    <tr>\n",
       "      <th>103</th>\n",
       "      <td>14-35-14 150kg</td>\n",
       "    </tr>\n",
       "    <tr>\n",
       "      <th>60</th>\n",
       "      <td>Urea 192kg</td>\n",
       "    </tr>\n",
       "    <tr>\n",
       "      <th>92</th>\n",
       "      <td>14-35-14 160kg</td>\n",
       "    </tr>\n",
       "    <tr>\n",
       "      <th>200</th>\n",
       "      <td>28-28 45kg</td>\n",
       "    </tr>\n",
       "    <tr>\n",
       "      <th>115</th>\n",
       "      <td>14-35-14 140kg</td>\n",
       "    </tr>\n",
       "    <tr>\n",
       "      <th>15</th>\n",
       "      <td>28-28 230kg</td>\n",
       "    </tr>\n",
       "    <tr>\n",
       "      <th>146</th>\n",
       "      <td>Calcium Ammonium Nitrate 196kg</td>\n",
       "    </tr>\n",
       "    <tr>\n",
       "      <th>12</th>\n",
       "      <td>Urea 264kg</td>\n",
       "    </tr>\n",
       "    <tr>\n",
       "      <th>22</th>\n",
       "      <td>Urea 272kg</td>\n",
       "    </tr>\n",
       "    <tr>\n",
       "      <th>85</th>\n",
       "      <td>14-35-14 167kg</td>\n",
       "    </tr>\n",
       "    <tr>\n",
       "      <th>111</th>\n",
       "      <td>28-28 143kg</td>\n",
       "    </tr>\n",
       "    <tr>\n",
       "      <th>138</th>\n",
       "      <td>14-35-14 121kg</td>\n",
       "    </tr>\n",
       "    <tr>\n",
       "      <th>130</th>\n",
       "      <td>14-35-14 128kg</td>\n",
       "    </tr>\n",
       "    <tr>\n",
       "      <th>70</th>\n",
       "      <td>14-35-14 182kg</td>\n",
       "    </tr>\n",
       "    <tr>\n",
       "      <th>107</th>\n",
       "      <td>Urea 147kg</td>\n",
       "    </tr>\n",
       "    <tr>\n",
       "      <th>18</th>\n",
       "      <td>14-35-14 238kg</td>\n",
       "    </tr>\n",
       "    <tr>\n",
       "      <th>108</th>\n",
       "      <td>14-35-14 146kg</td>\n",
       "    </tr>\n",
       "    <tr>\n",
       "      <th>104</th>\n",
       "      <td>Calcium Ammonium Nitrate 149kg</td>\n",
       "    </tr>\n",
       "    <tr>\n",
       "      <th>74</th>\n",
       "      <td>Calcium Ammonium Nitrate 178kg</td>\n",
       "    </tr>\n",
       "    <tr>\n",
       "      <th>142</th>\n",
       "      <td>Urea 197kg</td>\n",
       "    </tr>\n",
       "    <tr>\n",
       "      <th>37</th>\n",
       "      <td>17-17-17 215kg</td>\n",
       "    </tr>\n",
       "    <tr>\n",
       "      <th>187</th>\n",
       "      <td>14-35-14 118kg</td>\n",
       "    </tr>\n",
       "    <tr>\n",
       "      <th>129</th>\n",
       "      <td>28-28 127kg</td>\n",
       "    </tr>\n",
       "    <tr>\n",
       "      <th>58</th>\n",
       "      <td>Urea 194kg</td>\n",
       "    </tr>\n",
       "    <tr>\n",
       "      <th>19</th>\n",
       "      <td>17-17-17 240kg</td>\n",
       "    </tr>\n",
       "  </tbody>\n",
       "</table>\n",
       "</div>"
      ],
      "text/plain": [
       "                    Recommendations\n",
       "189                      20-20 99kg\n",
       "31       Diammonium Phosphate 221kg\n",
       "170                     20-20 172kg\n",
       "6      Monoammonium Phosphate 198kg\n",
       "168                  14-35-14 174kg\n",
       "80                      20-20 172kg\n",
       "139                  17-17-17 120kg\n",
       "153                     28-28 189kg\n",
       "186                      Urea 123kg\n",
       "83     Monoammonium Phosphate 169kg\n",
       "176  Calcium Ammonium Nitrate 166kg\n",
       "57                   17-17-17 195kg\n",
       "93                      28-28 159kg\n",
       "194                   14-35-14 87kg\n",
       "47                       Urea 205kg\n",
       "69                      28-28 183kg\n",
       "103                  14-35-14 150kg\n",
       "60                       Urea 192kg\n",
       "92                   14-35-14 160kg\n",
       "200                      28-28 45kg\n",
       "115                  14-35-14 140kg\n",
       "15                      28-28 230kg\n",
       "146  Calcium Ammonium Nitrate 196kg\n",
       "12                       Urea 264kg\n",
       "22                       Urea 272kg\n",
       "85                   14-35-14 167kg\n",
       "111                     28-28 143kg\n",
       "138                  14-35-14 121kg\n",
       "130                  14-35-14 128kg\n",
       "70                   14-35-14 182kg\n",
       "107                      Urea 147kg\n",
       "18                   14-35-14 238kg\n",
       "108                  14-35-14 146kg\n",
       "104  Calcium Ammonium Nitrate 149kg\n",
       "74   Calcium Ammonium Nitrate 178kg\n",
       "142                      Urea 197kg\n",
       "37                   17-17-17 215kg\n",
       "187                  14-35-14 118kg\n",
       "129                     28-28 127kg\n",
       "58                       Urea 194kg\n",
       "19                   17-17-17 240kg"
      ]
     },
     "execution_count": 31,
     "metadata": {},
     "output_type": "execute_result"
    }
   ],
   "source": [
    "y_test"
   ]
  },
  {
   "cell_type": "markdown",
   "id": "9f03caba",
   "metadata": {},
   "source": [
    "# Check for Efficacy"
   ]
  },
  {
   "cell_type": "code",
   "execution_count": 32,
   "id": "5271bddf",
   "metadata": {},
   "outputs": [],
   "source": [
    "from sklearn.metrics import accuracy_score, confusion_matrix, classification_report"
   ]
  },
  {
   "cell_type": "code",
   "execution_count": 33,
   "id": "82442493",
   "metadata": {},
   "outputs": [],
   "source": [
    "accuracy = accuracy_score(y_test, test)"
   ]
  },
  {
   "cell_type": "code",
   "execution_count": 34,
   "id": "9eae2c22",
   "metadata": {},
   "outputs": [
    {
     "data": {
      "text/plain": [
       "0.0"
      ]
     },
     "execution_count": 34,
     "metadata": {},
     "output_type": "execute_result"
    }
   ],
   "source": [
    "accuracy"
   ]
  },
  {
   "cell_type": "code",
   "execution_count": 36,
   "id": "01e785c0",
   "metadata": {},
   "outputs": [
    {
     "name": "stderr",
     "output_type": "stream",
     "text": [
      "C:\\Users\\ISAAC\\Desktop\\PythonProjects\\django\\FertilizerPrediction\\venv\\lib\\site-packages\\sklearn\\base.py:465: UserWarning: X does not have valid feature names, but DecisionTreeClassifier was fitted with feature names\n",
      "  warnings.warn(\n"
     ]
    }
   ],
   "source": [
    "new_user = clf.predict([[20.0, 80.0, 90.0]])\n"
   ]
  },
  {
   "cell_type": "code",
   "execution_count": 37,
   "id": "68c65ccd",
   "metadata": {},
   "outputs": [
    {
     "data": {
      "text/plain": [
       "array(['Diammonium Phosphate 198kg'], dtype=object)"
      ]
     },
     "execution_count": 37,
     "metadata": {},
     "output_type": "execute_result"
    }
   ],
   "source": [
    "new_user"
   ]
  },
  {
   "cell_type": "markdown",
   "id": "6b8409f9",
   "metadata": {},
   "source": [
    "# Save Model"
   ]
  },
  {
   "cell_type": "code",
   "execution_count": 38,
   "id": "a9302b0d",
   "metadata": {},
   "outputs": [
    {
     "data": {
      "text/plain": [
       "['FertRecommender.joblib']"
      ]
     },
     "execution_count": 38,
     "metadata": {},
     "output_type": "execute_result"
    }
   ],
   "source": [
    "import joblib\n",
    "joblib.dump(clf, 'FertRecommender.joblib')"
   ]
  },
  {
   "cell_type": "code",
   "execution_count": 40,
   "id": "9ab35a39",
   "metadata": {},
   "outputs": [
    {
     "ename": "ImportError",
     "evalue": "cannot import name 'plot_confusion_matrix' from 'sklearn.metrics' (C:\\Users\\ISAAC\\Desktop\\PythonProjects\\django\\FertilizerPrediction\\venv\\lib\\site-packages\\sklearn\\metrics\\__init__.py)",
     "output_type": "error",
     "traceback": [
      "\u001b[1;31m---------------------------------------------------------------------------\u001b[0m",
      "\u001b[1;31mImportError\u001b[0m                               Traceback (most recent call last)",
      "Cell \u001b[1;32mIn[40], line 1\u001b[0m\n\u001b[1;32m----> 1\u001b[0m \u001b[38;5;28;01mfrom\u001b[39;00m \u001b[38;5;21;01msklearn\u001b[39;00m\u001b[38;5;21;01m.\u001b[39;00m\u001b[38;5;21;01mmetrics\u001b[39;00m \u001b[38;5;28;01mimport\u001b[39;00m plot_confusion_matrix\n\u001b[0;32m      2\u001b[0m \u001b[38;5;28;01mfrom\u001b[39;00m \u001b[38;5;21;01mmatplotlib\u001b[39;00m \u001b[38;5;28;01mimport\u001b[39;00m pyplot \u001b[38;5;28;01mas\u001b[39;00m plt\n",
      "\u001b[1;31mImportError\u001b[0m: cannot import name 'plot_confusion_matrix' from 'sklearn.metrics' (C:\\Users\\ISAAC\\Desktop\\PythonProjects\\django\\FertilizerPrediction\\venv\\lib\\site-packages\\sklearn\\metrics\\__init__.py)"
     ]
    }
   ],
   "source": [
    "from sklearn.metrics import plot_confusion_matrix\n",
    "from matplotlib import pyplot as plt"
   ]
  },
  {
   "cell_type": "code",
   "execution_count": 41,
   "id": "6103a842",
   "metadata": {},
   "outputs": [
    {
     "data": {
      "text/plain": [
       "array([[0, 0, 0, ..., 0, 0, 0],\n",
       "       [0, 0, 0, ..., 0, 0, 0],\n",
       "       [0, 0, 0, ..., 0, 0, 0],\n",
       "       ...,\n",
       "       [0, 0, 0, ..., 0, 0, 0],\n",
       "       [0, 0, 0, ..., 0, 0, 0],\n",
       "       [0, 0, 0, ..., 0, 0, 0]], dtype=int64)"
      ]
     },
     "execution_count": 41,
     "metadata": {},
     "output_type": "execute_result"
    }
   ],
   "source": [
    "c_matrix = confusion_matrix(y_test, test)\n",
    "c_matrix"
   ]
  },
  {
   "cell_type": "code",
   "execution_count": 42,
   "id": "16740f90",
   "metadata": {},
   "outputs": [
    {
     "ename": "NameError",
     "evalue": "name 'plot_confusion_matrix' is not defined",
     "output_type": "error",
     "traceback": [
      "\u001b[1;31m---------------------------------------------------------------------------\u001b[0m",
      "\u001b[1;31mNameError\u001b[0m                                 Traceback (most recent call last)",
      "Cell \u001b[1;32mIn[42], line 1\u001b[0m\n\u001b[1;32m----> 1\u001b[0m \u001b[43mplot_confusion_matrix\u001b[49m(clf, X_test, y_test)\n",
      "\u001b[1;31mNameError\u001b[0m: name 'plot_confusion_matrix' is not defined"
     ]
    }
   ],
   "source": [
    "plot_confusion_matrix(clf, X_test, y_test)"
   ]
  },
  {
   "cell_type": "code",
   "execution_count": 152,
   "id": "49ad2ef8",
   "metadata": {
    "scrolled": true
   },
   "outputs": [
    {
     "name": "stdout",
     "output_type": "stream",
     "text": [
      "                                precision    recall  f1-score   support\n",
      "\n",
      "                14-35-14 118kg       0.00      0.00      0.00       0.0\n",
      "                14-35-14 126kg       0.00      0.00      0.00       1.0\n",
      "                14-35-14 137kg       0.00      0.00      0.00       0.0\n",
      "                14-35-14 146kg       0.00      0.00      0.00       1.0\n",
      "                14-35-14 150kg       0.00      0.00      0.00       1.0\n",
      "                14-35-14 160kg       0.00      0.00      0.00       0.0\n",
      "                14-35-14 163kg       0.00      0.00      0.00       0.0\n",
      "                14-35-14 167kg       0.00      0.00      0.00       1.0\n",
      "                14-35-14 179kg       0.00      0.00      0.00       0.0\n",
      "                14-35-14 193kg       0.00      0.00      0.00       2.0\n",
      "                14-35-14 204kg       0.00      0.00      0.00       1.0\n",
      "                14-35-14 212kg       0.00      0.00      0.00       1.0\n",
      "                14-35-14 238kg       0.00      0.00      0.00       0.0\n",
      "                14-35-14 268kg       0.00      0.00      0.00       1.0\n",
      "                 14-35-14 87kg       0.00      0.00      0.00       0.0\n",
      "                17-17-17 101kg       0.00      0.00      0.00       1.0\n",
      "                17-17-17 120kg       0.00      0.00      0.00       0.0\n",
      "                17-17-17 138kg       0.00      0.00      0.00       0.0\n",
      "                17-17-17 155kg       0.00      0.00      0.00       1.0\n",
      "                17-17-17 165kg       0.00      0.00      0.00       1.0\n",
      "                17-17-17 240kg       0.00      0.00      0.00       1.0\n",
      "                17-17-17 269kg       0.00      0.00      0.00       1.0\n",
      "                   20-20 119kg       0.00      0.00      0.00       1.0\n",
      "                   20-20 155kg       0.00      0.00      0.00       0.0\n",
      "                   20-20 259kg       0.00      0.00      0.00       0.0\n",
      "                    20-20 99kg       0.00      0.00      0.00       0.0\n",
      "                   28-28 100kg       0.00      0.00      0.00       1.0\n",
      "                   28-28 143kg       0.00      0.00      0.00       0.0\n",
      "                   28-28 145kg       0.00      0.00      0.00       1.0\n",
      "                   28-28 148kg       0.00      0.00      0.00       1.0\n",
      "                   28-28 154kg       0.00      0.00      0.00       1.0\n",
      "                   28-28 159kg       0.00      0.00      0.00       0.0\n",
      "                   28-28 171kg       0.00      0.00      0.00       0.0\n",
      "                   28-28 177kg       0.00      0.00      0.00       1.0\n",
      "                   28-28 189kg       0.00      0.00      0.00       0.0\n",
      "                   28-28 207kg       0.00      0.00      0.00       1.0\n",
      "                   28-28 213kg       0.00      0.00      0.00       0.0\n",
      "                   28-28 230kg       0.00      0.00      0.00       1.0\n",
      "                   28-28 251kg       0.00      0.00      0.00       1.0\n",
      "                   28-28 281kg       0.00      0.00      0.00       0.0\n",
      "Calcium Ammonium Nitrate 149kg       0.00      0.00      0.00       0.0\n",
      "Calcium Ammonium Nitrate 150kg       0.00      0.00      0.00       1.0\n",
      "Calcium Ammonium Nitrate 166kg       0.00      0.00      0.00       0.0\n",
      "Calcium Ammonium Nitrate 178kg       0.00      0.00      0.00       1.0\n",
      "Calcium Ammonium Nitrate 187kg       0.00      0.00      0.00       1.0\n",
      "Calcium Ammonium Nitrate 208kg       0.00      0.00      0.00       0.0\n",
      "Calcium Ammonium Nitrate 237kg       0.00      0.00      0.00       0.0\n",
      "Calcium Ammonium Nitrate 275kg       0.00      0.00      0.00       0.0\n",
      " Calcium Ammonium Nitrate 64kg       0.00      0.00      0.00       1.0\n",
      "    Diammonium Phosphate 134kg       0.00      0.00      0.00       0.0\n",
      "    Diammonium Phosphate 168kg       0.00      0.00      0.00       0.0\n",
      "    Diammonium Phosphate 176kg       0.00      0.00      0.00       1.0\n",
      "    Diammonium Phosphate 198kg       0.00      0.00      0.00       1.0\n",
      "  Monoammonium Phosphate 156kg       0.00      0.00      0.00       0.0\n",
      "  Monoammonium Phosphate 162kg       0.00      0.00      0.00       1.0\n",
      "  Monoammonium Phosphate 186kg       0.00      0.00      0.00       1.0\n",
      "  Monoammonium Phosphate 196kg       0.00      0.00      0.00       0.0\n",
      "  Monoammonium Phosphate 199kg       0.00      0.00      0.00       1.0\n",
      "  Monoammonium Phosphate 211kg       0.00      0.00      0.00       0.0\n",
      "                    Urea 126kg       0.00      0.00      0.00       0.0\n",
      "                    Urea 136kg       0.00      0.00      0.00       1.0\n",
      "                    Urea 138kg       0.00      0.00      0.00       1.0\n",
      "                    Urea 142kg       0.00      0.00      0.00       1.0\n",
      "                    Urea 147kg       0.00      0.00      0.00       0.0\n",
      "                    Urea 151kg       0.00      0.00      0.00       0.0\n",
      "                    Urea 158kg       0.00      0.00      0.00       1.0\n",
      "                    Urea 170kg       0.00      0.00      0.00       1.0\n",
      "                    Urea 175kg       0.00      0.00      0.00       0.0\n",
      "                    Urea 188kg       0.00      0.00      0.00       2.0\n",
      "                    Urea 194kg       0.00      0.00      0.00       0.0\n",
      "                    Urea 200kg       0.00      0.00      0.00       0.0\n",
      "                    Urea 205kg       0.00      0.00      0.00       0.0\n",
      "                    Urea 210kg       0.00      0.00      0.00       1.0\n",
      "                    Urea 242kg       0.00      0.00      0.00       1.0\n",
      "\n",
      "                      accuracy                           0.00      41.0\n",
      "                     macro avg       0.00      0.00      0.00      41.0\n",
      "                  weighted avg       0.00      0.00      0.00      41.0\n",
      "\n"
     ]
    },
    {
     "name": "stderr",
     "output_type": "stream",
     "text": [
      "C:\\Users\\ISAAC\\anaconda3\\lib\\site-packages\\sklearn\\metrics\\_classification.py:1245: UndefinedMetricWarning: Precision and F-score are ill-defined and being set to 0.0 in labels with no predicted samples. Use `zero_division` parameter to control this behavior.\n",
      "  _warn_prf(average, modifier, msg_start, len(result))\n",
      "C:\\Users\\ISAAC\\anaconda3\\lib\\site-packages\\sklearn\\metrics\\_classification.py:1245: UndefinedMetricWarning: Recall and F-score are ill-defined and being set to 0.0 in labels with no true samples. Use `zero_division` parameter to control this behavior.\n",
      "  _warn_prf(average, modifier, msg_start, len(result))\n",
      "C:\\Users\\ISAAC\\anaconda3\\lib\\site-packages\\sklearn\\metrics\\_classification.py:1245: UndefinedMetricWarning: Precision and F-score are ill-defined and being set to 0.0 in labels with no predicted samples. Use `zero_division` parameter to control this behavior.\n",
      "  _warn_prf(average, modifier, msg_start, len(result))\n",
      "C:\\Users\\ISAAC\\anaconda3\\lib\\site-packages\\sklearn\\metrics\\_classification.py:1245: UndefinedMetricWarning: Recall and F-score are ill-defined and being set to 0.0 in labels with no true samples. Use `zero_division` parameter to control this behavior.\n",
      "  _warn_prf(average, modifier, msg_start, len(result))\n",
      "C:\\Users\\ISAAC\\anaconda3\\lib\\site-packages\\sklearn\\metrics\\_classification.py:1245: UndefinedMetricWarning: Precision and F-score are ill-defined and being set to 0.0 in labels with no predicted samples. Use `zero_division` parameter to control this behavior.\n",
      "  _warn_prf(average, modifier, msg_start, len(result))\n",
      "C:\\Users\\ISAAC\\anaconda3\\lib\\site-packages\\sklearn\\metrics\\_classification.py:1245: UndefinedMetricWarning: Recall and F-score are ill-defined and being set to 0.0 in labels with no true samples. Use `zero_division` parameter to control this behavior.\n",
      "  _warn_prf(average, modifier, msg_start, len(result))\n"
     ]
    }
   ],
   "source": [
    "print(classification_report(y_test, test))"
   ]
  },
  {
   "cell_type": "code",
   "execution_count": 124,
   "id": "2ea4a006",
   "metadata": {},
   "outputs": [],
   "source": [
    "from sklearn import tree\n",
    "# X = data.drop(columns=['Recommendations'])\n",
    "y = data['Recommendations']\n",
    "\n",
    "tree.export_graphviz(clf, out_file='FertilizerRecommendation.dot',\n",
    "                    feature_names=['Nitrogen', 'Phosphorus', 'Potassium'],\n",
    "                    class_names=sorted(y.unique()),\n",
    "                    label='all',\n",
    "                    rounded=True,\n",
    "                    filled=True)\n",
    "                    "
   ]
  }
 ],
 "metadata": {
  "kernelspec": {
   "display_name": "Python 3 (ipykernel)",
   "language": "python",
   "name": "python3"
  },
  "language_info": {
   "codemirror_mode": {
    "name": "ipython",
    "version": 3
   },
   "file_extension": ".py",
   "mimetype": "text/x-python",
   "name": "python",
   "nbconvert_exporter": "python",
   "pygments_lexer": "ipython3",
   "version": "3.9.6"
  }
 },
 "nbformat": 4,
 "nbformat_minor": 5
}
